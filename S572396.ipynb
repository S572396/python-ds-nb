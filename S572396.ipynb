{
 "cells": [
  {
   "cell_type": "markdown",
   "metadata": {},
   "source": [
    "10. Create a new Jupyter Notebook (the name of the notebook should be your S number). Add a Markdown cell that contains your name. Add a Code cell and write Python that uses loops to draw the following pattern:\n",
    "\n",
    "```\n",
    "*      *\n",
    "**    **\n",
    "***  ***\n",
    "********\n",
    "```\n",
    "Make sure to add and submit both the new notebook and the changes to this notebook for this assignment."
   ]
  },
  {
   "cell_type": "code",
   "execution_count": 1,
   "metadata": {},
   "outputs": [
    {
     "name": "stdout",
     "output_type": "stream",
     "text": [
      "*      *\n",
      "**    **\n",
      "***  ***\n",
      "********\n"
     ]
    }
   ],
   "source": [
    "# Number of rows in the pattern\n",
    "rows = 4\n",
    "\n",
    "# Loop through each row\n",
    "for i in range(1, rows + 1):\n",
    "    # Print the leading asterisks\n",
    "    for j in range(i):\n",
    "        print('*', end='')\n",
    "\n",
    "    # Print the spaces in the middle\n",
    "    for j in range(2 * (rows - i)):\n",
    "        print(' ', end='')\n",
    "\n",
    "    # Print the trailing asterisks\n",
    "    for j in range(i):\n",
    "        print('*', end='')\n",
    "\n",
    "    # Move to the next line after each row\n",
    "    print()"
   ]
  },
  {
   "cell_type": "code",
   "execution_count": 3,
   "metadata": {},
   "outputs": [
    {
     "name": "stderr",
     "output_type": "stream",
     "text": [
      "[NbConvertApp] Converting notebook S572396.ipynb to html\n",
      "[NbConvertApp] Writing 273365 bytes to S572396.html\n"
     ]
    }
   ],
   "source": [
    "!jupyter nbconvert --to html S572396.ipynb"
   ]
  }
 ],
 "metadata": {
  "kernelspec": {
   "display_name": "Python 3",
   "language": "python",
   "name": "python3"
  },
  "language_info": {
   "codemirror_mode": {
    "name": "ipython",
    "version": 3
   },
   "file_extension": ".py",
   "mimetype": "text/x-python",
   "name": "python",
   "nbconvert_exporter": "python",
   "pygments_lexer": "ipython3",
   "version": "3.12.2"
  }
 },
 "nbformat": 4,
 "nbformat_minor": 2
}
